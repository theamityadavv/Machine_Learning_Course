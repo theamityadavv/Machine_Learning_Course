{
 "cells": [
  {
   "cell_type": "markdown",
   "id": "ebda9bd9",
   "metadata": {},
   "source": [
    "## handling mising value using sciket learn"
   ]
  },
  {
   "cell_type": "code",
   "execution_count": 1,
   "id": "212953bd",
   "metadata": {},
   "outputs": [],
   "source": [
    "import pandas as pd\n",
    "import matplotlib as plt\n",
    "import seaborn as sns"
   ]
  },
  {
   "cell_type": "code",
   "execution_count": 2,
   "id": "d523722d",
   "metadata": {},
   "outputs": [],
   "source": [
    "dataset=pd.read_csv(r\"C:\\Machine_Learning_Course\\ML_Practice_Dataset_500.csv\")"
   ]
  },
  {
   "cell_type": "code",
   "execution_count": 3,
   "id": "44f6ae03",
   "metadata": {},
   "outputs": [
    {
     "data": {
      "text/html": [
       "<div>\n",
       "<style scoped>\n",
       "    .dataframe tbody tr th:only-of-type {\n",
       "        vertical-align: middle;\n",
       "    }\n",
       "\n",
       "    .dataframe tbody tr th {\n",
       "        vertical-align: top;\n",
       "    }\n",
       "\n",
       "    .dataframe thead th {\n",
       "        text-align: right;\n",
       "    }\n",
       "</style>\n",
       "<table border=\"1\" class=\"dataframe\">\n",
       "  <thead>\n",
       "    <tr style=\"text-align: right;\">\n",
       "      <th></th>\n",
       "      <th>ID</th>\n",
       "      <th>Age</th>\n",
       "      <th>Salary</th>\n",
       "      <th>Department</th>\n",
       "      <th>Education_Level</th>\n",
       "      <th>Experience_Years</th>\n",
       "      <th>Purchased</th>\n",
       "      <th>Performance_Score</th>\n",
       "    </tr>\n",
       "  </thead>\n",
       "  <tbody>\n",
       "    <tr>\n",
       "      <th>0</th>\n",
       "      <td>367</td>\n",
       "      <td>41.0</td>\n",
       "      <td>54444.022560</td>\n",
       "      <td>Support</td>\n",
       "      <td>PhD</td>\n",
       "      <td>3</td>\n",
       "      <td>No</td>\n",
       "      <td>86.631826</td>\n",
       "    </tr>\n",
       "    <tr>\n",
       "      <th>1</th>\n",
       "      <td>47</td>\n",
       "      <td>NaN</td>\n",
       "      <td>75323.249876</td>\n",
       "      <td>Sales</td>\n",
       "      <td>PhD</td>\n",
       "      <td>39</td>\n",
       "      <td>Yes</td>\n",
       "      <td>53.340217</td>\n",
       "    </tr>\n",
       "    <tr>\n",
       "      <th>2</th>\n",
       "      <td>79</td>\n",
       "      <td>57.0</td>\n",
       "      <td>36889.913924</td>\n",
       "      <td>IT</td>\n",
       "      <td>High School</td>\n",
       "      <td>2</td>\n",
       "      <td>No</td>\n",
       "      <td>66.698145</td>\n",
       "    </tr>\n",
       "    <tr>\n",
       "      <th>3</th>\n",
       "      <td>237</td>\n",
       "      <td>54.0</td>\n",
       "      <td>61698.365040</td>\n",
       "      <td>Marketing</td>\n",
       "      <td>PhD</td>\n",
       "      <td>37</td>\n",
       "      <td>Yes</td>\n",
       "      <td>74.467841</td>\n",
       "    </tr>\n",
       "    <tr>\n",
       "      <th>4</th>\n",
       "      <td>413</td>\n",
       "      <td>59.0</td>\n",
       "      <td>46823.603047</td>\n",
       "      <td>HR</td>\n",
       "      <td>Post-Graduate</td>\n",
       "      <td>31</td>\n",
       "      <td>Yes</td>\n",
       "      <td>64.070418</td>\n",
       "    </tr>\n",
       "  </tbody>\n",
       "</table>\n",
       "</div>"
      ],
      "text/plain": [
       "    ID   Age        Salary Department Education_Level  Experience_Years  \\\n",
       "0  367  41.0  54444.022560    Support             PhD                 3   \n",
       "1   47   NaN  75323.249876      Sales             PhD                39   \n",
       "2   79  57.0  36889.913924         IT     High School                 2   \n",
       "3  237  54.0  61698.365040  Marketing             PhD                37   \n",
       "4  413  59.0  46823.603047         HR   Post-Graduate                31   \n",
       "\n",
       "  Purchased  Performance_Score  \n",
       "0        No          86.631826  \n",
       "1       Yes          53.340217  \n",
       "2        No          66.698145  \n",
       "3       Yes          74.467841  \n",
       "4       Yes          64.070418  "
      ]
     },
     "execution_count": 3,
     "metadata": {},
     "output_type": "execute_result"
    }
   ],
   "source": [
    "dataset.head(5)"
   ]
  },
  {
   "cell_type": "code",
   "execution_count": 5,
   "id": "f77fdf3a",
   "metadata": {},
   "outputs": [
    {
     "data": {
      "text/plain": [
       "np.int64(95)"
      ]
     },
     "execution_count": 5,
     "metadata": {},
     "output_type": "execute_result"
    }
   ],
   "source": [
    "dataset.isnull().sum().sum()"
   ]
  },
  {
   "cell_type": "code",
   "execution_count": 7,
   "id": "38f5c111",
   "metadata": {},
   "outputs": [
    {
     "name": "stdout",
     "output_type": "stream",
     "text": [
      "<class 'pandas.core.frame.DataFrame'>\n",
      "RangeIndex: 500 entries, 0 to 499\n",
      "Data columns (total 8 columns):\n",
      " #   Column             Non-Null Count  Dtype  \n",
      "---  ------             --------------  -----  \n",
      " 0   ID                 500 non-null    int64  \n",
      " 1   Age                405 non-null    float64\n",
      " 2   Salary             500 non-null    float64\n",
      " 3   Department         500 non-null    object \n",
      " 4   Education_Level    500 non-null    object \n",
      " 5   Experience_Years   500 non-null    int64  \n",
      " 6   Purchased          500 non-null    object \n",
      " 7   Performance_Score  500 non-null    float64\n",
      "dtypes: float64(3), int64(2), object(3)\n",
      "memory usage: 31.4+ KB\n"
     ]
    }
   ],
   "source": [
    "dataset.info()"
   ]
  },
  {
   "cell_type": "code",
   "execution_count": 13,
   "id": "cda3abe7",
   "metadata": {},
   "outputs": [
    {
     "data": {
      "text/plain": [
       "Index(['Age', 'Salary', 'Performance_Score'], dtype='object')"
      ]
     },
     "execution_count": 13,
     "metadata": {},
     "output_type": "execute_result"
    }
   ],
   "source": [
    "dataset.select_dtypes(include = \"float64\").columns"
   ]
  },
  {
   "cell_type": "code",
   "execution_count": 33,
   "id": "feb93844",
   "metadata": {},
   "outputs": [],
   "source": [
    "from sklearn.impute import SimpleImputer"
   ]
  },
  {
   "cell_type": "code",
   "execution_count": 25,
   "id": "2fa21f42",
   "metadata": {},
   "outputs": [],
   "source": [
    "#to find mean\n",
    "si=SimpleImputer(strategy=\"mean\")\n",
    "#fit transform to fill the missing value in the dataset\n",
    "ar=si.fit_transform(dataset[['Age', 'Salary', 'Performance_Score']]) #save in a variable"
   ]
  },
  {
   "cell_type": "code",
   "execution_count": null,
   "id": "1c950f63",
   "metadata": {},
   "outputs": [
    {
     "data": {
      "text/html": [
       "<div>\n",
       "<style scoped>\n",
       "    .dataframe tbody tr th:only-of-type {\n",
       "        vertical-align: middle;\n",
       "    }\n",
       "\n",
       "    .dataframe tbody tr th {\n",
       "        vertical-align: top;\n",
       "    }\n",
       "\n",
       "    .dataframe thead th {\n",
       "        text-align: right;\n",
       "    }\n",
       "</style>\n",
       "<table border=\"1\" class=\"dataframe\">\n",
       "  <thead>\n",
       "    <tr style=\"text-align: right;\">\n",
       "      <th></th>\n",
       "      <th>Age</th>\n",
       "      <th>Salary</th>\n",
       "      <th>Performance_Score</th>\n",
       "    </tr>\n",
       "  </thead>\n",
       "  <tbody>\n",
       "    <tr>\n",
       "      <th>0</th>\n",
       "      <td>41.000000</td>\n",
       "      <td>54444.022560</td>\n",
       "      <td>86.631826</td>\n",
       "    </tr>\n",
       "    <tr>\n",
       "      <th>1</th>\n",
       "      <td>38.518519</td>\n",
       "      <td>75323.249876</td>\n",
       "      <td>53.340217</td>\n",
       "    </tr>\n",
       "    <tr>\n",
       "      <th>2</th>\n",
       "      <td>57.000000</td>\n",
       "      <td>36889.913924</td>\n",
       "      <td>66.698145</td>\n",
       "    </tr>\n",
       "    <tr>\n",
       "      <th>3</th>\n",
       "      <td>54.000000</td>\n",
       "      <td>61698.365040</td>\n",
       "      <td>74.467841</td>\n",
       "    </tr>\n",
       "    <tr>\n",
       "      <th>4</th>\n",
       "      <td>59.000000</td>\n",
       "      <td>46823.603047</td>\n",
       "      <td>64.070418</td>\n",
       "    </tr>\n",
       "    <tr>\n",
       "      <th>...</th>\n",
       "      <td>...</td>\n",
       "      <td>...</td>\n",
       "      <td>...</td>\n",
       "    </tr>\n",
       "    <tr>\n",
       "      <th>495</th>\n",
       "      <td>20.000000</td>\n",
       "      <td>34178.603949</td>\n",
       "      <td>79.767422</td>\n",
       "    </tr>\n",
       "    <tr>\n",
       "      <th>496</th>\n",
       "      <td>44.000000</td>\n",
       "      <td>29053.103535</td>\n",
       "      <td>73.969660</td>\n",
       "    </tr>\n",
       "    <tr>\n",
       "      <th>497</th>\n",
       "      <td>26.000000</td>\n",
       "      <td>40139.472826</td>\n",
       "      <td>82.805870</td>\n",
       "    </tr>\n",
       "    <tr>\n",
       "      <th>498</th>\n",
       "      <td>38.518519</td>\n",
       "      <td>21442.032490</td>\n",
       "      <td>84.366846</td>\n",
       "    </tr>\n",
       "    <tr>\n",
       "      <th>499</th>\n",
       "      <td>24.000000</td>\n",
       "      <td>68986.289724</td>\n",
       "      <td>78.536189</td>\n",
       "    </tr>\n",
       "  </tbody>\n",
       "</table>\n",
       "<p>500 rows × 3 columns</p>\n",
       "</div>"
      ],
      "text/plain": [
       "           Age        Salary  Performance_Score\n",
       "0    41.000000  54444.022560          86.631826\n",
       "1    38.518519  75323.249876          53.340217\n",
       "2    57.000000  36889.913924          66.698145\n",
       "3    54.000000  61698.365040          74.467841\n",
       "4    59.000000  46823.603047          64.070418\n",
       "..         ...           ...                ...\n",
       "495  20.000000  34178.603949          79.767422\n",
       "496  44.000000  29053.103535          73.969660\n",
       "497  26.000000  40139.472826          82.805870\n",
       "498  38.518519  21442.032490          84.366846\n",
       "499  24.000000  68986.289724          78.536189\n",
       "\n",
       "[500 rows x 3 columns]"
      ]
     },
     "execution_count": 26,
     "metadata": {},
     "output_type": "execute_result"
    }
   ],
   "source": [
    "new_dataset =pd.DataFrame(ar,columns=dataset.select_dtypes(include = \"float64\").columns) #show dataset filled with missing values"
   ]
  },
  {
   "cell_type": "code",
   "execution_count": null,
   "id": "3429c916",
   "metadata": {},
   "outputs": [],
   "source": [
    "# #finding mean of a column\n",
    "# dataset[\"age\"].mean()"
   ]
  }
 ],
 "metadata": {
  "kernelspec": {
   "display_name": "Python 3",
   "language": "python",
   "name": "python3"
  },
  "language_info": {
   "codemirror_mode": {
    "name": "ipython",
    "version": 3
   },
   "file_extension": ".py",
   "mimetype": "text/x-python",
   "name": "python",
   "nbconvert_exporter": "python",
   "pygments_lexer": "ipython3",
   "version": "3.13.5"
  }
 },
 "nbformat": 4,
 "nbformat_minor": 5
}
