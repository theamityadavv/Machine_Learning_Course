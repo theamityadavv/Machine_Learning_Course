{
 "cells": [
  {
   "cell_type": "markdown",
   "id": "2c8c8686",
   "metadata": {},
   "source": [
    "# Machine Learning Course"
   ]
  },
  {
   "cell_type": "markdown",
   "id": "62bda31d",
   "metadata": {},
   "source": [
    "## part1: Finding Missing Values"
   ]
  },
  {
   "cell_type": "code",
   "execution_count": 68,
   "id": "3c45ca18",
   "metadata": {},
   "outputs": [],
   "source": [
    "# importing Pandas Library\n",
    "import pandas as pd #For data analytics\n",
    "## importing seaborn Library to make graph\n",
    "import seaborn as sns\n",
    "import matplotlib.pyplot as plt\n",
    "## importing matplot.pylot to plot  the graph"
   ]
  },
  {
   "cell_type": "code",
   "execution_count": 69,
   "id": "44c1bc95",
   "metadata": {},
   "outputs": [
    {
     "data": {
      "text/html": [
       "<div>\n",
       "<style scoped>\n",
       "    .dataframe tbody tr th:only-of-type {\n",
       "        vertical-align: middle;\n",
       "    }\n",
       "\n",
       "    .dataframe tbody tr th {\n",
       "        vertical-align: top;\n",
       "    }\n",
       "\n",
       "    .dataframe thead th {\n",
       "        text-align: right;\n",
       "    }\n",
       "</style>\n",
       "<table border=\"1\" class=\"dataframe\">\n",
       "  <thead>\n",
       "    <tr style=\"text-align: right;\">\n",
       "      <th></th>\n",
       "      <th>ID</th>\n",
       "      <th>Age</th>\n",
       "      <th>Salary</th>\n",
       "      <th>Department</th>\n",
       "      <th>Education_Level</th>\n",
       "      <th>Experience_Years</th>\n",
       "      <th>Purchased</th>\n",
       "      <th>Performance_Score</th>\n",
       "    </tr>\n",
       "  </thead>\n",
       "  <tbody>\n",
       "    <tr>\n",
       "      <th>0</th>\n",
       "      <td>367</td>\n",
       "      <td>41.0</td>\n",
       "      <td>54444.022560</td>\n",
       "      <td>Support</td>\n",
       "      <td>PhD</td>\n",
       "      <td>3</td>\n",
       "      <td>No</td>\n",
       "      <td>86.631826</td>\n",
       "    </tr>\n",
       "    <tr>\n",
       "      <th>1</th>\n",
       "      <td>47</td>\n",
       "      <td>NaN</td>\n",
       "      <td>75323.249876</td>\n",
       "      <td>Sales</td>\n",
       "      <td>PhD</td>\n",
       "      <td>39</td>\n",
       "      <td>Yes</td>\n",
       "      <td>53.340217</td>\n",
       "    </tr>\n",
       "    <tr>\n",
       "      <th>2</th>\n",
       "      <td>79</td>\n",
       "      <td>57.0</td>\n",
       "      <td>36889.913924</td>\n",
       "      <td>IT</td>\n",
       "      <td>High School</td>\n",
       "      <td>2</td>\n",
       "      <td>No</td>\n",
       "      <td>66.698145</td>\n",
       "    </tr>\n",
       "  </tbody>\n",
       "</table>\n",
       "</div>"
      ],
      "text/plain": [
       "    ID   Age        Salary Department Education_Level  Experience_Years  \\\n",
       "0  367  41.0  54444.022560    Support             PhD                 3   \n",
       "1   47   NaN  75323.249876      Sales             PhD                39   \n",
       "2   79  57.0  36889.913924         IT     High School                 2   \n",
       "\n",
       "  Purchased  Performance_Score  \n",
       "0        No          86.631826  \n",
       "1       Yes          53.340217  \n",
       "2        No          66.698145  "
      ]
     },
     "execution_count": 69,
     "metadata": {},
     "output_type": "execute_result"
    }
   ],
   "source": [
    "dataset=pd.read_csv(r\"C:\\Machine_Learning_Course\\ML_Practice_Dataset_500.csv\") #load the data...r is the raw string\n",
    "dataset.head(3) #to view 3 data entry\n",
    "#it shows NAn is the datat enry is missing\n"
   ]
  },
  {
   "cell_type": "code",
   "execution_count": 43,
   "id": "b2eaddc6",
   "metadata": {},
   "outputs": [
    {
     "data": {
      "text/plain": [
       "(500, 7)"
      ]
     },
     "execution_count": 43,
     "metadata": {},
     "output_type": "execute_result"
    }
   ],
   "source": [
    "# Finding no of rows and columns...\n",
    "dataset.shape"
   ]
  },
  {
   "cell_type": "code",
   "execution_count": 12,
   "id": "f95c6222",
   "metadata": {},
   "outputs": [
    {
     "data": {
      "text/plain": [
       "500"
      ]
     },
     "execution_count": 12,
     "metadata": {},
     "output_type": "execute_result"
    }
   ],
   "source": [
    "#for finding the no of rows use .shape[0] and for no of column use .shape[1]\n",
    "dataset.shape[0]"
   ]
  },
  {
   "cell_type": "code",
   "execution_count": 63,
   "id": "99b23fe1",
   "metadata": {},
   "outputs": [
    {
     "data": {
      "text/html": [
       "<div>\n",
       "<style scoped>\n",
       "    .dataframe tbody tr th:only-of-type {\n",
       "        vertical-align: middle;\n",
       "    }\n",
       "\n",
       "    .dataframe tbody tr th {\n",
       "        vertical-align: top;\n",
       "    }\n",
       "\n",
       "    .dataframe thead th {\n",
       "        text-align: right;\n",
       "    }\n",
       "</style>\n",
       "<table border=\"1\" class=\"dataframe\">\n",
       "  <thead>\n",
       "    <tr style=\"text-align: right;\">\n",
       "      <th></th>\n",
       "      <th>ID</th>\n",
       "      <th>Salary</th>\n",
       "      <th>Department</th>\n",
       "      <th>Education_Level</th>\n",
       "      <th>Experience_Years</th>\n",
       "      <th>Purchased</th>\n",
       "      <th>Performance_Score</th>\n",
       "    </tr>\n",
       "  </thead>\n",
       "  <tbody>\n",
       "    <tr>\n",
       "      <th>0</th>\n",
       "      <td>False</td>\n",
       "      <td>False</td>\n",
       "      <td>False</td>\n",
       "      <td>False</td>\n",
       "      <td>False</td>\n",
       "      <td>False</td>\n",
       "      <td>False</td>\n",
       "    </tr>\n",
       "    <tr>\n",
       "      <th>1</th>\n",
       "      <td>False</td>\n",
       "      <td>False</td>\n",
       "      <td>False</td>\n",
       "      <td>False</td>\n",
       "      <td>False</td>\n",
       "      <td>False</td>\n",
       "      <td>False</td>\n",
       "    </tr>\n",
       "    <tr>\n",
       "      <th>2</th>\n",
       "      <td>False</td>\n",
       "      <td>False</td>\n",
       "      <td>False</td>\n",
       "      <td>False</td>\n",
       "      <td>False</td>\n",
       "      <td>False</td>\n",
       "      <td>False</td>\n",
       "    </tr>\n",
       "    <tr>\n",
       "      <th>3</th>\n",
       "      <td>False</td>\n",
       "      <td>False</td>\n",
       "      <td>False</td>\n",
       "      <td>False</td>\n",
       "      <td>False</td>\n",
       "      <td>False</td>\n",
       "      <td>False</td>\n",
       "    </tr>\n",
       "    <tr>\n",
       "      <th>4</th>\n",
       "      <td>False</td>\n",
       "      <td>False</td>\n",
       "      <td>False</td>\n",
       "      <td>False</td>\n",
       "      <td>False</td>\n",
       "      <td>False</td>\n",
       "      <td>False</td>\n",
       "    </tr>\n",
       "    <tr>\n",
       "      <th>...</th>\n",
       "      <td>...</td>\n",
       "      <td>...</td>\n",
       "      <td>...</td>\n",
       "      <td>...</td>\n",
       "      <td>...</td>\n",
       "      <td>...</td>\n",
       "      <td>...</td>\n",
       "    </tr>\n",
       "    <tr>\n",
       "      <th>495</th>\n",
       "      <td>False</td>\n",
       "      <td>False</td>\n",
       "      <td>False</td>\n",
       "      <td>False</td>\n",
       "      <td>False</td>\n",
       "      <td>False</td>\n",
       "      <td>False</td>\n",
       "    </tr>\n",
       "    <tr>\n",
       "      <th>496</th>\n",
       "      <td>False</td>\n",
       "      <td>False</td>\n",
       "      <td>False</td>\n",
       "      <td>False</td>\n",
       "      <td>False</td>\n",
       "      <td>False</td>\n",
       "      <td>False</td>\n",
       "    </tr>\n",
       "    <tr>\n",
       "      <th>497</th>\n",
       "      <td>False</td>\n",
       "      <td>False</td>\n",
       "      <td>False</td>\n",
       "      <td>False</td>\n",
       "      <td>False</td>\n",
       "      <td>False</td>\n",
       "      <td>False</td>\n",
       "    </tr>\n",
       "    <tr>\n",
       "      <th>498</th>\n",
       "      <td>False</td>\n",
       "      <td>False</td>\n",
       "      <td>False</td>\n",
       "      <td>False</td>\n",
       "      <td>False</td>\n",
       "      <td>False</td>\n",
       "      <td>False</td>\n",
       "    </tr>\n",
       "    <tr>\n",
       "      <th>499</th>\n",
       "      <td>False</td>\n",
       "      <td>False</td>\n",
       "      <td>False</td>\n",
       "      <td>False</td>\n",
       "      <td>False</td>\n",
       "      <td>False</td>\n",
       "      <td>False</td>\n",
       "    </tr>\n",
       "  </tbody>\n",
       "</table>\n",
       "<p>500 rows × 7 columns</p>\n",
       "</div>"
      ],
      "text/plain": [
       "        ID  Salary  Department  Education_Level  Experience_Years  Purchased  \\\n",
       "0    False   False       False            False             False      False   \n",
       "1    False   False       False            False             False      False   \n",
       "2    False   False       False            False             False      False   \n",
       "3    False   False       False            False             False      False   \n",
       "4    False   False       False            False             False      False   \n",
       "..     ...     ...         ...              ...               ...        ...   \n",
       "495  False   False       False            False             False      False   \n",
       "496  False   False       False            False             False      False   \n",
       "497  False   False       False            False             False      False   \n",
       "498  False   False       False            False             False      False   \n",
       "499  False   False       False            False             False      False   \n",
       "\n",
       "     Performance_Score  \n",
       "0                False  \n",
       "1                False  \n",
       "2                False  \n",
       "3                False  \n",
       "4                False  \n",
       "..                 ...  \n",
       "495              False  \n",
       "496              False  \n",
       "497              False  \n",
       "498              False  \n",
       "499              False  \n",
       "\n",
       "[500 rows x 7 columns]"
      ]
     },
     "execution_count": 63,
     "metadata": {},
     "output_type": "execute_result"
    }
   ],
   "source": [
    "dataset.isnull() #if missing content it return true else false"
   ]
  },
  {
   "cell_type": "code",
   "execution_count": 42,
   "id": "4c73ec54",
   "metadata": {},
   "outputs": [
    {
     "data": {
      "text/plain": [
       "ID                   0\n",
       "Salary               0\n",
       "Department           0\n",
       "Education_Level      0\n",
       "Experience_Years     0\n",
       "Purchased            0\n",
       "Performance_Score    0\n",
       "dtype: int64"
      ]
     },
     "execution_count": 42,
     "metadata": {},
     "output_type": "execute_result"
    }
   ],
   "source": [
    "dataset.isnull().sum() #to count the no. of null values in each column"
   ]
  },
  {
   "cell_type": "code",
   "execution_count": 45,
   "id": "2afeaa04",
   "metadata": {},
   "outputs": [
    {
     "data": {
      "text/plain": [
       "ID                   0.0\n",
       "Salary               0.0\n",
       "Department           0.0\n",
       "Education_Level      0.0\n",
       "Experience_Years     0.0\n",
       "Purchased            0.0\n",
       "Performance_Score    0.0\n",
       "dtype: float64"
      ]
     },
     "execution_count": 45,
     "metadata": {},
     "output_type": "execute_result"
    }
   ],
   "source": [
    "#finding the percentage of missing value that is percentage null value so that we can have the idea either to remove or not\n",
    "(dataset.isnull().sum()/dataset.shape[0])*100"
   ]
  },
  {
   "cell_type": "code",
   "execution_count": null,
   "id": "c731ccef",
   "metadata": {},
   "outputs": [
    {
     "data": {
      "text/plain": [
       "np.int64(95)"
      ]
     },
     "execution_count": 15,
     "metadata": {},
     "output_type": "execute_result"
    }
   ],
   "source": [
    "#to calculat the total no of nul value in the dataset \n",
    "\n",
    "dataset.isnull().sum().sum()"
   ]
  },
  {
   "cell_type": "code",
   "execution_count": 46,
   "id": "7e18c970",
   "metadata": {},
   "outputs": [
    {
     "data": {
      "text/plain": [
       "np.float64(0.0)"
      ]
     },
     "execution_count": 46,
     "metadata": {},
     "output_type": "execute_result"
    }
   ],
   "source": [
    "#percentage null value in the dataset\n",
    "dataset.isnull().sum().sum()/(dataset.shape[0]*dataset.shape[1])*100"
   ]
  },
  {
   "cell_type": "code",
   "execution_count": 47,
   "id": "5cec40eb",
   "metadata": {},
   "outputs": [
    {
     "data": {
      "text/plain": [
       "np.int64(3500)"
      ]
     },
     "execution_count": 47,
     "metadata": {},
     "output_type": "execute_result"
    }
   ],
   "source": [
    "#to calculate the not null va;use in the dataset\n",
    "dataset.notnull().sum().sum()"
   ]
  },
  {
   "cell_type": "code",
   "execution_count": 59,
   "id": "49bf0fb0",
   "metadata": {},
   "outputs": [
    {
     "data": {
      "image/png": "[encoded data removed]",
      "text/plain": [
       "<Figure size 640x480 with 2 Axes>"
      ]
     },
     "metadata": {},
     "output_type": "display_data"
    }
   ],
   "source": [
    "#it will show the graphical way in each column the null values\n",
    "sns.heatmap(dataset.isnull())\n",
    "plt.show()"
   ]
  },
  {
   "cell_type": "markdown",
   "id": "c19012ee",
   "metadata": {},
   "source": [
    "## Part 2: Handling missing Values (Deletion)\n",
    "- if the dataset has more than 50 percent of the missing value then we should avoid using that dataset \n",
    "- if any column in the dataset has more than 50 percent of missing value then we should remove that column\n",
    "- either delete the misiing value's row"
   ]
  },
  {
   "cell_type": "code",
   "execution_count": null,
   "id": "5e345e29",
   "metadata": {},
   "outputs": [],
   "source": [
    "#to delete the column  and but will not update the dataset..it will create a new sheet\n",
    "#dataset.drop(columns=[\"Age\"]) # to delete the multiple column use commas seperated column\n",
    "\n",
    "#to update use this... using inplace=true\n",
    "dataset.drop(columns=[\"Age\"],inplace=True)"
   ]
  },
  {
   "cell_type": "code",
   "execution_count": 57,
   "id": "6dad3b1c",
   "metadata": {},
   "outputs": [],
   "source": [
    "# #to remove rows but it give  new datase\n",
    "# dataset.dropna\n",
    "#to remove rows along with update\n",
    "dataset.dropna(inplace=True)"
   ]
  },
  {
   "cell_type": "code",
   "execution_count": null,
   "id": "79e8232a",
   "metadata": {},
   "outputs": [
    {
     "data": {
      "text/plain": [
       "np.int64(0)"
      ]
     },
     "execution_count": 67,
     "metadata": {},
     "output_type": "execute_result"
    }
   ],
   "source": [
    "#percentage rows loose after dropna\n",
    "# ((total row-removed rows)/total rows )*100"
   ]
  }
 ],
 "metadata": {
  "kernelspec": {
   "display_name": "Python 3",
   "language": "python",
   "name": "python3"
  },
  "language_info": {
   "codemirror_mode": {
    "name": "ipython",
    "version": 3
   },
   "file_extension": ".py",
   "mimetype": "text/x-python",
   "name": "python",
   "nbconvert_exporter": "python",
   "pygments_lexer": "ipython3",
   "version": "3.13.5"
  }
 },
 "nbformat": 4,
 "nbformat_minor": 5
}
